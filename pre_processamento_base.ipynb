{
 "metadata": {
  "language_info": {
   "codemirror_mode": {
    "name": "ipython",
    "version": 3
   },
   "file_extension": ".py",
   "mimetype": "text/x-python",
   "name": "python",
   "nbconvert_exporter": "python",
   "pygments_lexer": "ipython3",
   "version": "3.8.5-final"
  },
  "orig_nbformat": 2,
  "kernelspec": {
   "name": "python3",
   "display_name": "Python 3.8.5 64-bit (conda)",
   "metadata": {
    "interpreter": {
     "hash": "b3ba2566441a7c06988d0923437866b63cedc61552a5af99d1f4fb67d367b25f"
    }
   }
  }
 },
 "nbformat": 4,
 "nbformat_minor": 2,
 "cells": [
  {
   "cell_type": "code",
   "execution_count": 1,
   "metadata": {},
   "outputs": [],
   "source": [
    "import re\n",
    "import pprint\n",
    "from collections import Counter\n",
    "import math\n",
    "import itertools\n",
    "import json"
   ]
  },
  {
   "cell_type": "code",
   "execution_count": 2,
   "metadata": {},
   "outputs": [],
   "source": [
    "pp = pprint.PrettyPrinter(indent=2)"
   ]
  },
  {
   "cell_type": "code",
   "execution_count": 3,
   "metadata": {},
   "outputs": [],
   "source": [
    "def dump_json(filename, json_object):\n",
    "    with open(filename, \"w\") as fp:\n",
    "        json.dump(json_object, fp)\n",
    "\n",
    "def dump_normas(filename, normas):\n",
    "    for norma in normas:\n",
    "        norma['AssuntoGeral'] = list(norma['AssuntoGeral'])\n",
    "        norma['Tema'] = list(norma['Tema'])\n",
    "        norma['Indexacao'] = list(norma['Indexacao'])\n",
    "    dump_json(filename, normas)"
   ]
  },
  {
   "cell_type": "code",
   "execution_count": 4,
   "metadata": {
    "tags": []
   },
   "outputs": [],
   "source": [
    "def le_arquivo_brs(filename, debug=False):\n",
    "    DOCUMENT_BOUNDARY = \"*** BRS DOCUMENT BOUNDARY ***\"\n",
    "    FIELD_PATTERN =  re.compile(\"^\\.\\.(\\w+)\\:$\")\n",
    "\n",
    "    def split_string(string, split_regex=r'[.]', replace_newline=True):\n",
    "        return [s.strip().upper() for s in re.split(split_regex, string.replace('\\n',' ') if replace_newline else string) if s and s.strip()]\n",
    "\n",
    "    def remove_newline(norma, fields):\n",
    "        for field in fields:\n",
    "            norma[field] = norma[field].replace('\\n','') if field in norma else None\n",
    "        return norma\n",
    "\n",
    "    def formata_norma(norma):\n",
    "        norma['AssuntoGeral'] = set(split_string(norma['AssuntoGeral']) if 'AssuntoGeral' in norma else [])\n",
    "        norma['Indexacao'] = set(split_string(norma['Indexacao'], r'[,.]') if 'Indexacao' in norma else [])\n",
    "        norma['Tema'] = set(split_string(norma['Tema'], '\\n', False) if 'Tema' in norma else [])\n",
    "        norma = remove_newline(norma, ['Horario', 'DataNorma', 'Ano', 'Norma', 'Numero', 'Origem', 'Relevancia', 'Tipo', 'Atualizacao'])\n",
    "        return norma\n",
    "\n",
    "    normas = []\n",
    "    norma = {}\n",
    "    with open(filename, encoding='ANSI') as f:\n",
    "        for line in f:\n",
    "            m = FIELD_PATTERN.match(line)\n",
    "            if m:\n",
    "                current_field = m.group(1)\n",
    "                if current_field not in norma:\n",
    "                    norma[current_field] = \"\"\n",
    "            elif DOCUMENT_BOUNDARY in line:\n",
    "                normas.append(formata_norma(norma))\n",
    "                norma = {}\n",
    "                if len(normas) % 5000 == 0 and debug:\n",
    "                    print(f'Encontradas {len(normas)} normas')\n",
    "            else:\n",
    "                norma[current_field] += line\n",
    "    if debug:\n",
    "        print(f'Encontradas {len(normas)-1} normas')                \n",
    "    return normas[1:];"
   ]
  },
  {
   "cell_type": "code",
   "execution_count": 5,
   "metadata": {
    "tags": []
   },
   "outputs": [
    {
     "output_type": "stream",
     "name": "stdout",
     "text": [
      "Encontradas 5000 normas\n",
      "Encontradas 10000 normas\n",
      "Encontradas 15000 normas\n",
      "Encontradas 20000 normas\n",
      "Encontradas 25000 normas\n",
      "Encontradas 28308 normas\n"
     ]
    }
   ],
   "source": [
    "filename = \"normas.raw\"\n",
    "normas = le_arquivo_brs(\"normas.raw\", True)"
   ]
  },
  {
   "source": [
    "### Imprime uma norma de exemplo"
   ],
   "cell_type": "markdown",
   "metadata": {}
  },
  {
   "cell_type": "code",
   "execution_count": 6,
   "metadata": {},
   "outputs": [
    {
     "output_type": "stream",
     "name": "stdout",
     "text": [
      "{ 'ADIN': '',\n  'Ano': '2020',\n  'AssuntoGeral': { 'CALAMIDADE PÚBLICA',\n                    'CRIANÇA E ADOLESCENTE',\n                    'IDOSO',\n                    'MULHER',\n                    'PESSOA COM DEFICIÊNCIA',\n                    'SAÚDE PÚBLICA',\n                    'SEGURANÇA PÚBLICA'},\n  'Atualizacao': '20200622',\n  'Complemento': '',\n  'DataNorma': '20200522',\n  'Ementa': 'Dispõe sobre o registro de ocorrência e o pedido de medida '\n            'protetiva de\\n'\n            'urgência relativos a ato de violência doméstica e familiar contra '\n            'a\\n'\n            'mulher durante o estado de calamidade pública em decorrência da\\n'\n            'pandemia de Covid-19, causada pelo coronavírus, e dá outras\\n'\n            'providências.\\n',\n  'Evento': '',\n  'Fonte': '<a '\n           'href=\"http://jornal.iof.mg.gov.br/xmlui/handle/123456789/234547\">Publicação</a> '\n           '- Minas Gerais Diário do Executivo - 23/05/2020 Pág. 1 Col. 2\\n'\n           '\\n',\n  'Horario': '1025',\n  'Indexacao': { 'ADOLESCENTE',\n                 'ATENDIMENTO',\n                 'AUTORIZAÇÃO',\n                 'COMUNICAÇÃO DIGITAL',\n                 'CRIANÇA',\n                 'DELEGACIA ESPECIALIZADA',\n                 'DESTINAÇÃO',\n                 'DOENÇA TRANSMISSÍVEL',\n                 'DURAÇÃO',\n                 'EPIDEMIA',\n                 'IDOSO',\n                 'INCLUSÃO',\n                 'INFRAÇÃO PENAL',\n                 'MEDIDAS COERCITIVAS',\n                 'MULHER',\n                 'OBJETIVO',\n                 'PERÍODO',\n                 'PESSOA COM DEFICIÊNCIA',\n                 'POSSIBILIDADE',\n                 'PROTEÇÃO',\n                 'REGISTRO',\n                 'RELAÇÃO',\n                 'REQUISIÇÃO',\n                 'SÍTIO ELETRÔNICO',\n                 'VIOLÊNCIA',\n                 'VIOLÊNCIA DOMÉSTICA',\n                 'VÍRUS'},\n  'InicioVigencia': '',\n  'Nomes': '',\n  'Norma': 'Lei 23644 2020',\n  'Numero': '23644',\n  'Observacao': '',\n  'Origem': 'Legislativo',\n  'Relevancia': 'Norma básica',\n  'Situacao': '',\n  'Tema': { 'CRIANÇA E ADOLESCENTE',\n            'IDOSO',\n            'MULHER',\n            'PESSOA COM DEFICIÊNCIA',\n            'SAÚDE PÚBLICA',\n            'SEGURANÇA PÚBLICA'},\n  'TerminoVigencia': '',\n  'Texto': 'Dispõe sobre o registro de ocorrência e o pedido de medida '\n           'protetiva de urgência relativos a ato de violência doméstica e '\n           'familiar contra a mulher durante o estado de calamidade pública em '\n           'decorrência da pandemia de Covid-19, causada pelo coronavírus,\\n'\n           'e\\n'\n           'dá outras providências.\\n'\n           'O GOVERNADOR DO ESTADO DE MINAS GERAIS,\\n'\n           'O Povo do Estado de Minas Gerais, por seus representantes, '\n           'decretou e eu, em seu nome, promulgo a seguinte lei:\\n'\n           'Art. 1º – O registro de ocorrência e o pedido de medida protetiva '\n           'de urgência relativos a ato de violência doméstica e familiar '\n           'contra a mulher previstos na Lei Federal nº 11.340, de 7 de agosto '\n           'de 2006, poderão ser feitos por meio da Delegacia Virtual\\n'\n           'do Estado durante a vigência do estado de calamidade pública em '\n           'decorrência da pandemia de Covid-19, causada pelo coronavírus, '\n           'reconhecido pelo Decreto nº 47.891, de 20 de março de 2020.\\n'\n           '§ 1º – Ao receber o registro de ocorrência a que se refere o '\n           'caput, o delegado de polícia, em cumprimento do disposto no art. '\n           '12 da Lei Federal nº 11.340, de 2006, ouvirá a ofendida '\n           'preferencialmente por meio eletrônico ou telefônico.\\n'\n           '§ 2º – Poderão também ser realizados por meio da Delegacia Virtual '\n           'do Estado, nos termos do caput, os registros de ocorrência '\n           'relativos a ato de violência contra:\\n'\n           'I – a criança e o adolescente, observado o disposto na Lei Federal '\n           'nº 8.069, de 13 de julho de 1990;\\n'\n           'II – o idoso, observado o disposto na Lei Federal nº 10.741, de 1º '\n           'de outubro de 2003;\\n'\n           'III – a pessoa com deficiência, observado o disposto na Lei '\n           'Federal nº 13.146, de 6 de julho de 2015.\\n'\n           'Art. 2º – O procedimento para atendimento das vítimas dos atos de '\n           'violência a que se refere o art. 1º será regulamentado pelo Poder '\n           'Executivo.\\n'\n           'Art. 3º – Esta lei entra em vigor na data de sua publicação.\\n'\n           'Belo Horizonte, aos 22 de maio de 2020; 232º da Inconfidência '\n           'Mineira e 199º da Independência do Brasil.\\n'\n           'ROMEU ZEMA NETO\\n',\n  'TextoConsolidado': '',\n  'Tipo': 'LEI',\n  'Veto': '',\n  'Vide': '<ETR=VideNota;Decreto adj 47988 adj 2020[NORM];all;njmg>Decreto '\n          '47988 2020\\n'\n          'Minas Gerais Diário do Executivo - 20/06/2020 Pág. 2 Col. 2\\n'\n          'Regulamentação\\n'}\n"
     ]
    }
   ],
   "source": [
    "pp.pprint(normas[55])"
   ]
  },
  {
   "source": [
    "### Funções utilitárias para impressão de atributos"
   ],
   "cell_type": "markdown",
   "metadata": {}
  },
  {
   "cell_type": "code",
   "execution_count": 7,
   "metadata": {
    "tags": []
   },
   "outputs": [],
   "source": [
    "def print_stats_multiplo(normas, atributo='AssuntoGeral', top=20):\n",
    "    atributoCount = Counter([atr for norma in normas for atr in norma[atributo]])\n",
    "    paresAtributoCount = Counter([parAtr for norma in normas for parAtr in itertools.combinations(sorted(norma[atributo]), 2)])\n",
    "    print(f\"Quantidade de normas {len(normas)}\")\n",
    "    print(f\"Quantidade de normas com {atributo}: {len([norma for norma in normas if len(norma[atributo]) > 0])}\")\n",
    "    print(f\"Quantidade de {atributo}: {len(atributoCount)}\")\n",
    "    print(f\"Quantidade de {atributo} em mais de 5 normas: {len({x: c for x, c in atributoCount.items() if c >= 5})}\")\n",
    "    print(f\"Quantidade de normas com mais de 1 {atributo}: {len([norma for norma in normas if len(norma[atributo]) > 1])}\")\n",
    "    print(f\"{atributo} comuns:\")\n",
    "    pp.pprint(atributoCount.most_common(top))\n",
    "    print(f\"\\nPares de {atributo} comuns:\")\n",
    "    pp.pprint(paresAtributoCount.most_common(top))\n",
    "\n",
    "def print_stats_individual(normas, atributo='Ano', top=20):\n",
    "    atributoCount = Counter([norma[atributo] for norma in normas])\n",
    "    print(f\"Quantidade de normas {len(normas)}\")\n",
    "    print(f\"Quantidade de {atributo}: {len(atributoCount)}\")\n",
    "    print(f\"Quantidade de {atributo} em mais de 5 normas: {len({x: c for x, c in atributoCount.items() if c >= 5})}\")\n",
    "    pp.pprint(atributoCount.most_common(top))"
   ]
  },
  {
   "cell_type": "code",
   "execution_count": 8,
   "metadata": {
    "tags": []
   },
   "outputs": [
    {
     "output_type": "stream",
     "name": "stdout",
     "text": [
      "Quantidade de normas 28308\nQuantidade de normas com AssuntoGeral: 24560\nQuantidade de AssuntoGeral: 629\nQuantidade de AssuntoGeral em mais de 5 normas: 192\nQuantidade de normas com mais de 1 AssuntoGeral: 3820\nAssuntoGeral comuns:\n[ ('UTILIDADE PÚBLICA', 12217),\n  ('PRÓPRIO PÚBLICO', 2184),\n  ('IMÓVEL', 2039),\n  ('ESTABELECIMENTO DE ENSINO', 1900),\n  ('CRÉDITO', 1485),\n  ('TRIBUTOS', 558),\n  ('SECRETARIA DE ESTADO DE EDUCAÇÃO (SEE), PESSOAL', 499),\n  ('EXECUTIVO, PESSOAL', 368),\n  ('DIVISÃO ADMINISTRATIVA', 346),\n  ('SAÚDE PÚBLICA', 324),\n  ('HOMENAGEM', 240),\n  ('MEIO AMBIENTE', 224),\n  ('TRANSPORTE E TRÂNSITO', 199),\n  ('CALENDÁRIO', 193),\n  ('AUXÍLIO FINANCEIRO', 190),\n  ('FINANÇAS PÚBLICAS', 189),\n  ('CONSTITUIÇÃO ESTADUAL', 173),\n  ('EDUCAÇÃO', 158),\n  ('AGROPECUÁRIA', 157),\n  ('ADMINISTRAÇÃO ESTADUAL, ORÇAMENTO', 154)]\n\nPares de AssuntoGeral comuns:\n[ (('ESTABELECIMENTO DE ENSINO', 'PRÓPRIO PÚBLICO'), 1368),\n  ( ( 'ESTABELECIMENTO DE ENSINO',\n      'SECRETARIA DE ESTADO DE EDUCAÇÃO (SEE), PESSOAL'),\n    431),\n  ( ( 'JUDICIÁRIO, PESSOAL',\n      'TRIBUNAL DE JUSTIÇA DO ESTADO DE MINAS GERAIS (TJMG), PESSOAL'),\n    55),\n  (('PRÓPRIO PÚBLICO', 'SECRETARIA DE ESTADO DE EDUCAÇÃO (SEE), PESSOAL'), 52),\n  (('CALAMIDADE PÚBLICA', 'SAÚDE PÚBLICA'), 44),\n  (('CALENDÁRIO', 'SAÚDE PÚBLICA'), 41),\n  (('JUDICIÁRIO', 'MAGISTRATURA'), 41),\n  ( ( 'JUDICIÁRIO, PESSOAL',\n      'TRIBUNAL DE ALÇADA DO ESTADO DE MINAS GERAIS (TAMG), PESSOAL'),\n    40),\n  ( ( 'TRIBUNAL DE ALÇADA DO ESTADO DE MINAS GERAIS (TAMG), PESSOAL',\n      'TRIBUNAL DE JUSTIÇA DO ESTADO DE MINAS GERAIS (TJMG), PESSOAL'),\n    38),\n  (('JUDICIÁRIO', 'ORGANIZAÇÃO JUDICIÁRIA'), 36),\n  (('ESTABELECIMENTO DE ENSINO', 'SECRETARIA DA EDUCAÇÃO, PESSOAL'), 36),\n  (('JUDICIÁRIO, PESSOAL', 'JUSTIÇA DE PRIMEIRA INSTÂNCIA, PESSOAL'), 31),\n  (('CALENDÁRIO', 'CULTURA'), 29),\n  (('DEFESA DO CONSUMIDOR', 'SAÚDE PÚBLICA'), 28),\n  (('MULHER', 'SAÚDE PÚBLICA'), 27),\n  (('MEIO AMBIENTE', 'RECURSO HÍDRICO'), 26),\n  (('DIREITOS HUMANOS', 'SAÚDE PÚBLICA'), 25),\n  (('AGROPECUÁRIA', 'MEIO AMBIENTE'), 25),\n  (('AGROPECUÁRIA', 'TERRA PÚBLICA'), 25),\n  (('CULTURA', 'HOMENAGEM'), 24)]\n"
     ]
    }
   ],
   "source": [
    "print_stats_multiplo(normas)"
   ]
  },
  {
   "cell_type": "code",
   "execution_count": 9,
   "metadata": {},
   "outputs": [
    {
     "output_type": "stream",
     "name": "stdout",
     "text": [
      "Quantidade de normas 28308\nQuantidade de Ano: 173\nQuantidade de Ano em mais de 5 normas: 167\n[ ('2007', 760),\n  ('2010', 733),\n  ('1965', 726),\n  ('2009', 700),\n  ('2008', 687),\n  ('2006', 684),\n  ('2011', 600),\n  ('2012', 598),\n  ('2005', 544),\n  ('2014', 540),\n  ('2013', 529),\n  ('2016', 522),\n  ('2004', 500),\n  ('2003', 461),\n  ('1968', 458),\n  ('1992', 430),\n  ('2002', 426),\n  ('1996', 414),\n  ('2018', 409),\n  ('2000', 398)]\n"
     ]
    }
   ],
   "source": [
    "print_stats_individual(normas)"
   ]
  },
  {
   "source": [
    "### Pré-processa assuntos em sub-assuntos e agrupa assuntos comuns\n",
    "\n",
    "Padroniza nome de assuntos comuns: TRIBUTOS e TRIBUTO para TRIBUTOS\n",
    "\n",
    "Por exemplo, quebra EXECUTIVO, PESSOAL em EXECUTIVO e PESSOAL"
   ],
   "cell_type": "markdown",
   "metadata": {}
  },
  {
   "source": [
    "def quebra_em_set(lista, char=','):\n",
    "    return set([t.strip() for tokens in lista for t in tokens.split(char)])\n",
    "\n",
    "def substitui_em_set(lista, tokens_antigos, token_novo):\n",
    "    return set([token_novo if token in tokens_antigos else token for token in lista])"
   ],
   "cell_type": "code",
   "metadata": {},
   "execution_count": 10,
   "outputs": []
  },
  {
   "source": [
    "Substitui termos comuns parecidos removendo a vírgula:"
   ],
   "cell_type": "markdown",
   "metadata": {}
  },
  {
   "cell_type": "code",
   "execution_count": 11,
   "metadata": {},
   "outputs": [],
   "source": [
    "for norma in normas:\n",
    "    norma['AssuntoGeral'] = substitui_em_set(norma['AssuntoGeral'], [\n",
    "        'INDÚSTRIA COMÉRCIO E SERVIÇOS', \n",
    "        'INDÚSTRIA, COMÉRCIO E SERVIÇOS',\n",
    "        'INDÚSTRIA, COMÉRCIO E SERVIÇO'],\n",
    "        'INDÚSTRIA COMÉRCIO E SERVIÇO'\n",
    "    )\n",
    "\n",
    "    norma['AssuntoGeral'] = substitui_em_set(norma['AssuntoGeral'], [\n",
    "        'TRABALHO, EMPREGO E RENDA'],\n",
    "        'TRABALHO EMPREGO E RENDA'\n",
    "    )"
   ]
  },
  {
   "cell_type": "code",
   "execution_count": 12,
   "metadata": {},
   "outputs": [],
   "source": [
    "for norma in normas:\n",
    "    norma['AssuntoGeral'] = quebra_em_set(norma['AssuntoGeral'])"
   ]
  },
  {
   "cell_type": "code",
   "execution_count": 13,
   "metadata": {},
   "outputs": [
    {
     "output_type": "stream",
     "name": "stdout",
     "text": [
      "Quantidade de normas 28308\n",
      "Quantidade de normas com AssuntoGeral: 24560\n",
      "Quantidade de AssuntoGeral: 330\n",
      "Quantidade de AssuntoGeral em mais de 5 normas: 186\n",
      "Quantidade de normas com mais de 1 AssuntoGeral: 5208\n",
      "AssuntoGeral comuns:\n",
      "[ ('UTILIDADE PÚBLICA', 12220),\n",
      "  ('PRÓPRIO PÚBLICO', 2191),\n",
      "  ('IMÓVEL', 2040),\n",
      "  ('ESTABELECIMENTO DE ENSINO', 1906),\n",
      "  ('PESSOAL', 1797),\n",
      "  ('CRÉDITO', 1485),\n",
      "  ('TRIBUTOS', 558),\n",
      "  ('EXECUTIVO', 553),\n",
      "  ('ORGANIZAÇÃO ADMINISTRATIVA', 545),\n",
      "  ('SECRETARIA DE ESTADO DE EDUCAÇÃO (SEE)', 537),\n",
      "  ('ADMINISTRAÇÃO ESTADUAL', 349),\n",
      "  ('DIVISÃO ADMINISTRATIVA', 346),\n",
      "  ('SAÚDE PÚBLICA', 324),\n",
      "  ('HOMENAGEM', 241),\n",
      "  ('MEIO AMBIENTE', 224),\n",
      "  ('JUDICIÁRIO', 216),\n",
      "  ('ORÇAMENTO', 204),\n",
      "  ('TRANSPORTE E TRÂNSITO', 199),\n",
      "  ('CALENDÁRIO', 193),\n",
      "  ('AUXÍLIO FINANCEIRO', 190)]\n",
      "\n",
      "Pares de AssuntoGeral comuns:\n",
      "[ (('ESTABELECIMENTO DE ENSINO', 'PRÓPRIO PÚBLICO'), 1368),\n",
      "  (('PESSOAL', 'SECRETARIA DE ESTADO DE EDUCAÇÃO (SEE)'), 517),\n",
      "  (('ESTABELECIMENTO DE ENSINO', 'PESSOAL'), 472),\n",
      "  ( ('ESTABELECIMENTO DE ENSINO', 'SECRETARIA DE ESTADO DE EDUCAÇÃO (SEE)'),\n",
      "    431),\n",
      "  (('EXECUTIVO', 'PESSOAL'), 396),\n",
      "  (('ORGANIZAÇÃO ADMINISTRATIVA', 'PESSOAL'), 277),\n",
      "  (('ADMINISTRAÇÃO ESTADUAL', 'ORÇAMENTO'), 160),\n",
      "  ( ('PESSOAL MILITAR', 'POLÍCIA MILITAR DO ESTADO DE MINAS GERAIS (PMMG)'),\n",
      "    128),\n",
      "  (('JUDICIÁRIO', 'PESSOAL'), 127),\n",
      "  (('ADMINISTRAÇÃO ESTADUAL', 'PESSOAL'), 117),\n",
      "  (('EXECUTIVO', 'ORGANIZAÇÃO ADMINISTRATIVA'), 106),\n",
      "  (('PESSOAL', 'TRIBUNAL DE CONTAS DO ESTADO DE MINAS GERAIS (TCEMG)'), 101),\n",
      "  (('PESSOAL', 'TRIBUNAL DE JUSTIÇA DO ESTADO DE MINAS GERAIS (TJMG)'), 93),\n",
      "  (('MINISTÉRIO PÚBLICO DO ESTADO DE MINAS GERAIS (MPMG)', 'PESSOAL'), 79),\n",
      "  (('ASSEMBLEIA LEGISLATIVA DO ESTADO DE MINAS GERAIS (ALMG)', 'PESSOAL'), 79),\n",
      "  (('JUDICIÁRIO', 'TRIBUNAL DE JUSTIÇA DO ESTADO DE MINAS GERAIS (TJMG)'), 72),\n",
      "  (('PESSOAL', 'PRÓPRIO PÚBLICO'), 67),\n",
      "  (('PESSOAL', 'SECRETARIA DA EDUCAÇÃO'), 65),\n",
      "  (('PRÓPRIO PÚBLICO', 'SECRETARIA DE ESTADO DE EDUCAÇÃO (SEE)'), 53),\n",
      "  (('JUDICIÁRIO', 'TRIBUNAL DE ALÇADA DO ESTADO DE MINAS GERAIS (TAMG)'), 49)]\n"
     ]
    }
   ],
   "source": [
    "print_stats_multiplo(normas)"
   ]
  },
  {
   "cell_type": "code",
   "execution_count": 14,
   "metadata": {},
   "outputs": [],
   "source": [
    "# Agrupa assuntos semelhantes em um único:\n",
    "for norma in normas:\n",
    "    norma['AssuntoGeral'] = substitui_em_set(norma['AssuntoGeral'], [\n",
    "        'PROPRIO PÚBLICO'], \n",
    "        'PRÓPRIO PÚBLICO'\n",
    "    )\n",
    "\n",
    "    norma['AssuntoGeral'] = substitui_em_set(norma['AssuntoGeral'], [\n",
    "        'ÚTILIDADE PÚBLICA'],\n",
    "        'UTILIDADE PÚBLICA'\n",
    "    )\n",
    "\n",
    "    norma['AssuntoGeral'] = substitui_em_set(norma['AssuntoGeral'], [\n",
    "        'ADMINISTRAÇÃO PÚBLICA ESTADUAL'],\n",
    "        'ADMINISTRAÇÃO ESTADUAL'\n",
    "    )\n",
    "\n",
    "    norma['AssuntoGeral'] = substitui_em_set(norma['AssuntoGeral'], [\n",
    "        'ADMINISTRAÇÃO DE ESTÁDIOS DO ESTADO DE MINAS GERAIS'], \n",
    "        'ADMINISTRAÇÃO DE ESTÁDIOS DO ESTADO DE MINAS GERAIS (ADEMG)'\n",
    "    )\n",
    "\n",
    "    norma['AssuntoGeral'] = substitui_em_set(norma['AssuntoGeral'], [\n",
    "        'ASSEMBLEIA LEGISLATIVA DO ESTADO DE MINAS GERAIS'],\n",
    "        'ASSEMBLEIA LEGISLATIVA DO ESTADO DE MINAS GERAIS (ALMG)'\n",
    "    )\n",
    "\n",
    "    norma['AssuntoGeral'] = substitui_em_set(norma['AssuntoGeral'], [\n",
    "        'AUDITORIA-GERAL DO ESTADO'],\n",
    "        'AUDITORIA-GERAL DO ESTADO (AUGE)',\n",
    "    )\n",
    "\n",
    "    norma['AssuntoGeral'] = substitui_em_set(norma['AssuntoGeral'], [\n",
    "        'BENEFICIO PESSOAL'],\n",
    "        'BENEFÍCIO PESSOAL',\n",
    "    )\n",
    "\n",
    "    norma['AssuntoGeral'] = substitui_em_set(norma['AssuntoGeral'], [\n",
    "        'CIÊNCIA TECNOLOGIA'],\n",
    "        'CIÊNCIA E TECNOLOGIA'\n",
    "    )\n",
    "\n",
    "    norma['AssuntoGeral'] = substitui_em_set(norma['AssuntoGeral'], [\n",
    "        'CREDITO'],\n",
    "        'CRÉDITO'\n",
    "    )\n",
    "\n",
    "    norma['AssuntoGeral'] = substitui_em_set(norma['AssuntoGeral'], [\n",
    "        'COMPANHIA DE PROCESSAMENTO DE DADOS DO ESTADO DE MINAS GERAIS (PRODEMGE)'],\n",
    "        'COMPANHIA DE TECNOLOGIA DA INFORMAÇÃO DO ESTADO DE MINAS GERAIS (PRODEMGE)',\n",
    "    )\n",
    "\n",
    "    norma['AssuntoGeral'] = substitui_em_set(norma['AssuntoGeral'], [\n",
    "        'CORPO DE BOMBEIROS'],\n",
    "        'CORPO DE BOMBEIROS MILITAR DO ESTADO DE MINAS GERAIS (CBMMG)'\n",
    "    )\n",
    "\n",
    "    norma['AssuntoGeral'] = substitui_em_set(norma['AssuntoGeral'], [\n",
    "        'DEPARTAMENTO ESTADUAL DE OBRAS PÚBLICAS (DEOP-MG)'],\n",
    "        'DEPARTAMENTO DE OBRAS PÚBLICAS DO ESTADO DE MINAS GERAIS (DEOP-MG)'\n",
    "    )\n",
    "\n",
    "    norma['AssuntoGeral'] = substitui_em_set(norma['AssuntoGeral'], [\n",
    "        'DEPARTAMENTO EDIFICAÇÕES ESTRADAS RODAGEM ESTADO MINAS GERAIS (DER-MG)'],\n",
    "        'DEPARTAMENTO DE ESTRADAS DE RODAGEM DO ESTADO DE MINAS GERAIS (DER)'\n",
    "    )\n",
    "\n",
    "    norma['AssuntoGeral'] = substitui_em_set(norma['AssuntoGeral'], [\n",
    "        'EDUCAÇÃO, ASSISTÊNCIA SOCIAL'],\n",
    "        'EDUCAÇÃO'\n",
    "    )\n",
    "\n",
    "    norma['AssuntoGeral'] = substitui_em_set(norma['AssuntoGeral'], [\n",
    "        'EMPRESA ASSISTÊNCIA TÉCNICA EXTENSÃO RURAL ESTADO MINAS GERAIS (EMATER-MG)'],\n",
    "        'EMPRESA DE ASSISTÊNCIA TÉCNICA E EXTENSÃO RURAL DO ESTADO DE MINAS GERAIS (EMATER-MG)'\n",
    "    )\n",
    "\n",
    "    norma['AssuntoGeral'] = substitui_em_set(norma['AssuntoGeral'], [\n",
    "        'ENERGIA',\n",
    "        'ENERGIA ELÉTRICA'],\n",
    "        'ENERGIA E ENERGIA ELÉTRICA'\n",
    "    )\n",
    "\n",
    "    norma['AssuntoGeral'] = substitui_em_set(norma['AssuntoGeral'], [\n",
    "        'FUNDAÇÃO ESTADUAL DE EDUCAÇÃO RURAL HELENA ANTIPOFF'],\n",
    "        'FUNDAÇÃO HELENA ANTIPOFF (FHA)'\n",
    "    )\n",
    "    \n",
    "    norma['AssuntoGeral'] = substitui_em_set(norma['AssuntoGeral'], [\n",
    "        'FUNDAÇÃO JOÃO PINHEIRO (FJP))'],\n",
    "        'FUNDAÇÃO JOÃO PINHEIRO (FJP)'\n",
    "    )\n",
    "\n",
    "    norma['AssuntoGeral'] = substitui_em_set(norma['AssuntoGeral'], [\n",
    "        'FUNDAÇÃO RURAL MINEIRA COLONIZAÇÃO E DESENVOLVIMENTO AGRÁRIO (RURALMINAS)'],\n",
    "        'FUNDAÇÃO RURAL MINEIRA (RURALMINAS)'\n",
    "    )\n",
    "\n",
    "    norma['AssuntoGeral'] = substitui_em_set(norma['AssuntoGeral'], [\n",
    "        'GOVERNADOR',\n",
    "        'GOVERNADORIA DO ESTADO'],\n",
    "        'GOVERNADOR E GOVERNADORIA DO ESTADO'\n",
    "    )\n",
    "\n",
    "    norma['AssuntoGeral'] = substitui_em_set(norma['AssuntoGeral'], [\n",
    "        'IMOVEL'],\n",
    "        'IMÓVEL'\n",
    "    )\n",
    "\n",
    "    norma['AssuntoGeral'] = substitui_em_set(norma['AssuntoGeral'], [\n",
    "        'INSTITUTO DE DESENVOLVIMENTO DO NORTE E NORDESTE DE MINAS GERAIS'],\n",
    "        'INSTITUTO DE DESENVOLVIMENTO DO NORTE E NORDESTE DE MINAS GERAIS (IDENE)'\n",
    "    )\n",
    "\n",
    "    norma['AssuntoGeral'] = substitui_em_set(norma['AssuntoGeral'], [\n",
    "        'INSTITUTO DE PESOS E MEDIDAS DO ESTADO DE MINAS GERAIS (IPEM-MG)'],\n",
    "        'INSTITUTO DE METROLOGIA E QUALIDADE DO ESTADO DE MINAS GERAIS (IPEM)'\n",
    "    )\n",
    "\n",
    "    norma['AssuntoGeral'] = substitui_em_set(norma['AssuntoGeral'], [\n",
    "        'INSTITUTO DE PREVIDÊNCIA DOS SERVIDORES MILITARES DE MINAS GERAIS (IPSM)'],\n",
    "        'INSTITUTO DE PREVIDÊNCIA DOS SERVIDORES MILITARES DO ESTADO DE MINAS GERAIS (IPSM)'\n",
    "    )\n",
    "\n",
    "    norma['AssuntoGeral'] = substitui_em_set(norma['AssuntoGeral'], [\n",
    "        'INSTITUTO MINEIRO DE GESTÃO DAS ÁGUAS'],\n",
    "        'INSTITUTO MINEIRO DE GESTÃO DAS ÁGUAS (IGAM)'\n",
    "    )\n",
    "\n",
    "    norma['AssuntoGeral'] = substitui_em_set(norma['AssuntoGeral'], [\n",
    "        'INSTITUTO ESTADUAL DE DESENVOLVIMENTO DE RECURSOS HUMANOS(IEDRHU)'],\n",
    "        'INSTITUTO ESTADUAL DE DESENVOLVIMENTO DE RECURSOS HUMANOS (IEDRHU)'\n",
    "    )\n",
    "\n",
    "    norma['AssuntoGeral'] = substitui_em_set(norma['AssuntoGeral'], [\n",
    "        'INSTITUTO DE DESENVOLVIMENTO INTEGRADO DE MINAS GERAIS(INDI)'],\n",
    "        'INSTITUTO DE DESENVOLVIMENTO INTEGRADO DE MINAS GERAIS (INDI)'\n",
    "    )\n",
    "\n",
    "    norma['AssuntoGeral'] = substitui_em_set(norma['AssuntoGeral'], [\n",
    "        'MINISTÉRIO PÚBLICO DO ESTADO DE MINAS GERAIS (MPMG) TRIBUNAL DE CONTAS DO ESTADO DE MINAS GERAIS (TCEMG)'],\n",
    "        'MINISTÉRIO PÚBLICO DO ESTADO DE MINAS GERAIS (MPMG)'\n",
    "    )\n",
    "\n",
    "    norma['AssuntoGeral'] = substitui_em_set(norma['AssuntoGeral'], [\n",
    "        'MUNICÍPIOS E  DESENVOLVIMENTO REGIONAL'],\n",
    "        'MUNICÍPIOS E DESENVOLVIMENTO REGIONAL'\n",
    "    )\n",
    "\n",
    "    norma['AssuntoGeral'] = substitui_em_set(norma['AssuntoGeral'], [\n",
    "        'PATRIÔNIO'],\n",
    "        'PATRIMÔNIO'\n",
    "    )\n",
    "\n",
    "    norma['AssuntoGeral'] = substitui_em_set(norma['AssuntoGeral'], [\n",
    "        'PESSOAL EDUCAÇÃO'],\n",
    "        'PESSOAL'\n",
    "    )\n",
    "\n",
    "    norma['AssuntoGeral'] = substitui_em_set(norma['AssuntoGeral'], [\n",
    "        'POLÍCIA CIVIL'],\n",
    "        'POLÍCIA CIVIL DO ESTADO DE MINAS GERAIS (PCMG)'\n",
    "    )\n",
    "\n",
    "    norma['AssuntoGeral'] = substitui_em_set(norma['AssuntoGeral'], [\n",
    "        'PROCURADORIA FISCAL DO ESTADO'],\n",
    "        'PROCURADORIA-GERAL DA FAZENDA ESTADUAL'\n",
    "     )\n",
    "\n",
    "    norma['AssuntoGeral'] = substitui_em_set(norma['AssuntoGeral'], [\n",
    "        'PROCURADORIA-GERAL DO ESTADO'],\n",
    "        'PROCURADORIA-GERAL DO ESTADO (PGE)'\n",
    "    )\n",
    "\n",
    "    norma['AssuntoGeral'] = substitui_em_set(norma['AssuntoGeral'], [\n",
    "        'SECRETARIA DE ESTADO DE AGRICULTURA E PECUÁRIA',\n",
    "        'SECRETARIA DE ESTADO DE AGRICULTURA PECUÁRIA E ABASTECIMENTO (SEAPA)'],\n",
    "        'SECRETARIA DE ESTADO DE AGRICULTURA E PECUÁRIA (SEAPA)'\n",
    "    )\n",
    "\n",
    "    norma['AssuntoGeral'] = substitui_em_set(norma['AssuntoGeral'], [\n",
    "        'SECRETARIA DE ESTADO DA CASA CIVIL E COMUNICAÇÃO SOCIAL'],\n",
    "        'SECRETARIA DE ESTADO DA CASA CIVIL'\n",
    "    )\n",
    "\n",
    "    norma['AssuntoGeral'] = substitui_em_set(norma['AssuntoGeral'], [\n",
    "        'SECRETARIA DA EDUCAÇÃO'],\n",
    "        'SECRETARIA DE ESTADO DE EDUCAÇÃO (SEE)'\n",
    "    )\n",
    "\n",
    "    norma['AssuntoGeral'] = substitui_em_set(norma['AssuntoGeral'], [\n",
    "        'SECRETARIA DE FINANÇAS'],\n",
    "        'SECRETARIA DE ESTADO DE FAZENDA (SEF)'\n",
    "    )\n",
    "\n",
    "    norma['AssuntoGeral'] = substitui_em_set(norma['AssuntoGeral'], [\n",
    "        'SECRETARIA DE SAÚDE E ASSISTÊNCIA'],\n",
    "        'SECRETARIA DE ESTADO DE SAÚDE (SES)'\n",
    "    )\n",
    "\n",
    "    norma['AssuntoGeral'] = substitui_em_set(norma['AssuntoGeral'], [\n",
    "        'SECRETARIA DE ESTADO DE SEGURANÇA PÚBLICA (SESP)',\n",
    "        'SECRETARIA DE SEGURANÇA PÚBLICA'],\n",
    "        'SECRETARIA DE ESTADO DE SEGURANÇA PÚBLICA (SSPMG)'\n",
    "    )\n",
    "\n",
    "    norma['AssuntoGeral'] = substitui_em_set(norma['AssuntoGeral'], [\n",
    "        'SEGURANÇA PÚBLICA PESSOA COM DEFICIÊNCIA'],\n",
    "        'SEGURANÇA PÚBLICA'\n",
    "    )\n",
    "\n",
    "    norma['AssuntoGeral'] = substitui_em_set(norma['AssuntoGeral'], [\n",
    "        'TRANSPORTE'],\n",
    "        'TRANSPORTE E TRÂNSITO'\n",
    "    )\n",
    "\n",
    "    norma['AssuntoGeral'] = substitui_em_set(norma['AssuntoGeral'], [\n",
    "        'TRIBUTO'],\n",
    "        'TRIBUTOS'\n",
    "    )\n",
    "\n",
    "    norma['AssuntoGeral'] = substitui_em_set(norma['AssuntoGeral'], [\n",
    "        'VICE-GOVERNADOR',\n",
    "        'VICE-GOVERNADORIA'],\n",
    "        'VICE-GOVERNADOR E VICE-GOVERNADORIA'\n",
    "    )"
   ]
  },
  {
   "source": [
    "### Remove normas sem assunto ou que falam de utilidade pública/próprio público"
   ],
   "cell_type": "markdown",
   "metadata": {}
  },
  {
   "cell_type": "code",
   "execution_count": 15,
   "metadata": {
    "tags": []
   },
   "outputs": [],
   "source": [
    "# Remove normas sem assuntos:\n",
    "normasComAssuntos = [norma for norma in normas if len(norma['AssuntoGeral']) > 0]\n",
    "\n",
    "# Remove normas que falam de utilidade pública/próprio público:\n",
    "normasSemUtilidadeProprioPublico = [norma for norma in normasComAssuntos if set(['UTILIDADE PÚBLICA', 'PRÓPRIO PÚBLICO']).isdisjoint(norma['AssuntoGeral'])]"
   ]
  },
  {
   "cell_type": "code",
   "execution_count": 16,
   "metadata": {},
   "outputs": [
    {
     "output_type": "stream",
     "name": "stdout",
     "text": [
      "Quantidade de normas 10147\nQuantidade de normas com AssuntoGeral: 10147\nQuantidade de AssuntoGeral: 283\nQuantidade de AssuntoGeral em mais de 5 normas: 174\nQuantidade de normas com mais de 1 AssuntoGeral: 3750\nAssuntoGeral comuns:\n[ ('IMÓVEL', 2038),\n  ('PESSOAL', 1731),\n  ('CRÉDITO', 1486),\n  ('TRIBUTOS', 578),\n  ('EXECUTIVO', 549),\n  ('SECRETARIA DE ESTADO DE EDUCAÇÃO (SEE)', 543),\n  ('ORGANIZAÇÃO ADMINISTRATIVA', 541),\n  ('ESTABELECIMENTO DE ENSINO', 535),\n  ('ADMINISTRAÇÃO ESTADUAL', 355),\n  ('DIVISÃO ADMINISTRATIVA', 346),\n  ('SAÚDE PÚBLICA', 322),\n  ('HOMENAGEM', 241),\n  ('MEIO AMBIENTE', 221),\n  ('JUDICIÁRIO', 212),\n  ('ORÇAMENTO', 204),\n  ('TRANSPORTE E TRÂNSITO', 199),\n  ('CALENDÁRIO', 193),\n  ('AUXÍLIO FINANCEIRO', 190),\n  ('FINANÇAS PÚBLICAS', 189),\n  ('POLÍCIA MILITAR DO ESTADO DE MINAS GERAIS (PMMG)', 178)]\n\nPares de AssuntoGeral comuns:\n[ (('PESSOAL', 'SECRETARIA DE ESTADO DE EDUCAÇÃO (SEE)'), 522),\n  (('ESTABELECIMENTO DE ENSINO', 'PESSOAL'), 412),\n  ( ('ESTABELECIMENTO DE ENSINO', 'SECRETARIA DE ESTADO DE EDUCAÇÃO (SEE)'),\n    408),\n  (('EXECUTIVO', 'PESSOAL'), 394),\n  (('ORGANIZAÇÃO ADMINISTRATIVA', 'PESSOAL'), 277),\n  (('ADMINISTRAÇÃO ESTADUAL', 'ORÇAMENTO'), 160),\n  ( ('PESSOAL MILITAR', 'POLÍCIA MILITAR DO ESTADO DE MINAS GERAIS (PMMG)'),\n    128),\n  (('JUDICIÁRIO', 'PESSOAL'), 126),\n  (('ADMINISTRAÇÃO ESTADUAL', 'PESSOAL'), 117),\n  (('EXECUTIVO', 'ORGANIZAÇÃO ADMINISTRATIVA'), 104),\n  (('PESSOAL', 'TRIBUNAL DE CONTAS DO ESTADO DE MINAS GERAIS (TCEMG)'), 100),\n  (('PESSOAL', 'TRIBUNAL DE JUSTIÇA DO ESTADO DE MINAS GERAIS (TJMG)'), 93),\n  (('MINISTÉRIO PÚBLICO DO ESTADO DE MINAS GERAIS (MPMG)', 'PESSOAL'), 80),\n  (('ASSEMBLEIA LEGISLATIVA DO ESTADO DE MINAS GERAIS (ALMG)', 'PESSOAL'), 79),\n  (('JUDICIÁRIO', 'TRIBUNAL DE JUSTIÇA DO ESTADO DE MINAS GERAIS (TJMG)'), 70),\n  (('JUDICIÁRIO', 'TRIBUNAL DE ALÇADA DO ESTADO DE MINAS GERAIS (TAMG)'), 49),\n  (('PESSOAL', 'POLÍCIA CIVIL DO ESTADO DE MINAS GERAIS (PCMG)'), 48),\n  (('PESSOAL', 'TRIBUNAL DE ALÇADA DO ESTADO DE MINAS GERAIS (TAMG)'), 48),\n  (('PESSOAL', 'SECRETARIA DE ESTADO DE FAZENDA (SEF)'), 47),\n  (('JUDICIÁRIO', 'MAGISTRATURA'), 47)]\n"
     ]
    }
   ],
   "source": [
    "print_stats_multiplo(normasSemUtilidadeProprioPublico, top=20)"
   ]
  },
  {
   "cell_type": "code",
   "execution_count": 17,
   "metadata": {
    "tags": []
   },
   "outputs": [
    {
     "output_type": "display_data",
     "data": {
      "text/plain": "80"
     },
     "metadata": {}
    },
    {
     "output_type": "display_data",
     "data": {
      "text/plain": "[('ADMINISTRAÇÃO ESTADUAL', 355),\n ('ADMINISTRAÇÃO INDIRETA', 122),\n ('ADMINISTRAÇÃO MUNICIPAL', 60),\n ('ADVOCACIA-GERAL DO ESTADO DE MINAS GERAIS (AGE)', 21),\n ('AGROPECUÁRIA', 157),\n ('ALIMENTAÇÃO', 28),\n ('ASSEMBLEIA LEGISLATIVA DO ESTADO DE MINAS GERAIS (ALMG)', 139),\n ('ASSISTÊNCIA SOCIAL', 91),\n ('AUXÍLIO FINANCEIRO', 190),\n ('BARRAGEM HÍDRICA', 29),\n ('BENEFÍCIO PESSOAL', 156),\n ('CALAMIDADE PÚBLICA', 50),\n ('CALENDÁRIO', 193),\n ('CARTÓRIO', 50),\n ('COMUNICAÇÃO', 22),\n ('CONSELHO ESTADUAL', 84),\n ('CONSTITUIÇÃO ESTADUAL', 173),\n ('CONTRATO', 38),\n ('CONVÊNIO', 28),\n ('CORPO DE BOMBEIROS MILITAR DO ESTADO DE MINAS GERAIS (CBMMG)', 61),\n ('CRIANÇA E ADOLESCENTE', 74),\n ('CRÉDITO', 1486),\n ('CULTURA', 122),\n ('DEFENSORIA PÚBLICA DO ESTADO DE MINAS GERAIS (DPMG)', 25),\n ('DEFESA DO CONSUMIDOR', 133),\n ('DIREITOS HUMANOS', 154),\n ('DIVISÃO ADMINISTRATIVA', 346),\n ('EDUCAÇÃO', 160),\n ('ENSINO SUPERIOR', 98),\n ('ESPORTE E LAZER', 41),\n ('ESTABELECIMENTO DE ENSINO', 535),\n ('EXECUTIVO', 549),\n ('FINANÇAS PÚBLICAS', 189),\n ('FUNDAÇÃO EDUCACIONAL', 58),\n ('FUNDO ESTADUAL', 143),\n ('HOMENAGEM', 241),\n ('IDOSO', 28),\n ('IMPOSTO SOBRE CIRCULAÇÃO DE MERCADORIAS E SERVIÇOS (ICMS)', 29),\n ('IMÓVEL', 2038),\n ('INCENTIVO FISCAL', 21),\n ('INDÚSTRIA COMÉRCIO E SERVIÇO', 133),\n ('INSTITUTO DE PREVIDÊNCIA DOS SERVIDORES DO ESTADO DE MINAS GERAIS (IPSEMG)',\n  47),\n ('JUDICIÁRIO', 212),\n ('JUSTIÇA DE PRIMEIRA INSTÂNCIA', 45),\n ('LICITAÇÃO', 26),\n ('LOTERIA DO ESTADO DE MINAS GERAIS (LEMG)', 25),\n ('MAGISTRATURA', 47),\n ('MEIO AMBIENTE', 221),\n ('MINISTÉRIO PÚBLICO DO ESTADO DE MINAS GERAIS (MPMG)', 118),\n ('MULHER', 52),\n ('MUNICÍPIOS E DESENVOLVIMENTO REGIONAL', 42),\n ('ORGANIZAÇÃO ADMINISTRATIVA', 541),\n ('ORGANIZAÇÃO JUDICIÁRIA', 43),\n ('ORÇAMENTO', 204),\n ('PATRIMÔNIO', 26),\n ('PATRIMÔNIO CULTURAL', 37),\n ('PESSOA COM DEFICIÊNCIA', 95),\n ('PESSOAL', 1731),\n ('PESSOAL MILITAR', 156),\n ('POLÍCIA CIVIL DO ESTADO DE MINAS GERAIS (PCMG)', 60),\n ('POLÍCIA MILITAR DO ESTADO DE MINAS GERAIS (PMMG)', 178),\n ('PROTEÇÃO AOS ANIMAIS', 22),\n ('RECURSO HÍDRICO', 30),\n ('SAÚDE PÚBLICA', 322),\n ('SECRETARIA DE ESTADO DE EDUCAÇÃO (SEE)', 543),\n ('SECRETARIA DE ESTADO DE FAZENDA (SEF)', 57),\n ('SECRETARIA DE ESTADO DE SAÚDE (SES)', 49),\n ('SECRETARIA DE ESTADO DE SEGURANÇA PÚBLICA (SSPMG)', 27),\n ('SEGURANÇA PÚBLICA', 148),\n ('SUBVENÇÃO', 67),\n ('TERRA PÚBLICA', 34),\n ('TRABALHO EMPREGO E RENDA', 48),\n ('TRANSPORTE COLETIVO', 23),\n ('TRANSPORTE E TRÂNSITO', 199),\n ('TRIBUNAL DE ALÇADA DO ESTADO DE MINAS GERAIS (TAMG)', 51),\n ('TRIBUNAL DE CONTAS DO ESTADO DE MINAS GERAIS (TCEMG)', 140),\n ('TRIBUNAL DE JUSTIÇA DO ESTADO DE MINAS GERAIS (TJMG)', 106),\n ('TRIBUNAL DE JUSTIÇA MILITAR DO ESTADO DE MINAS GERAIS (TJMMG)', 28),\n ('TRIBUTOS', 578),\n ('TURISMO', 74)]"
     },
     "metadata": {}
    }
   ],
   "source": [
    "# Assuntos que aparecem 20 ou mais vezes:\n",
    "minC = 20\n",
    "assuntosComuns = [a for a in sorted(Counter([assunto for norma in normasSemUtilidadeProprioPublico for assunto in norma['AssuntoGeral']]).items()) if a[1] >= minC]\n",
    "display(len(assuntosComuns))\n",
    "display(assuntosComuns)"
   ]
  },
  {
   "cell_type": "code",
   "execution_count": 18,
   "metadata": {},
   "outputs": [],
   "source": [
    "def filtra_em_set(lista, tokens_permitidos):\n",
    "    return set([token for token in lista if token in tokens_permitidos])"
   ]
  },
  {
   "cell_type": "code",
   "execution_count": 19,
   "metadata": {},
   "outputs": [],
   "source": [
    "for norma in normasSemUtilidadeProprioPublico:\n",
    "    norma['AssuntoGeral'] = list(filtra_em_set(norma['AssuntoGeral'], [x[0] for x in assuntosComuns]))\n",
    "    norma['Tema'] = list(norma['Tema'])\n",
    "    norma['Indexacao'] = list(norma['Indexacao'])"
   ]
  },
  {
   "cell_type": "code",
   "execution_count": 20,
   "metadata": {},
   "outputs": [],
   "source": [
    "normasSemUtilidadeProprioPublicoReduzida = [norma for norma in normasSemUtilidadeProprioPublico if len(norma['AssuntoGeral']) > 0]"
   ]
  },
  {
   "cell_type": "code",
   "execution_count": 21,
   "metadata": {},
   "outputs": [
    {
     "output_type": "stream",
     "name": "stdout",
     "text": [
      "Quantidade de normas 9963\nQuantidade de normas com AssuntoGeral: 9963\nQuantidade de AssuntoGeral: 80\nQuantidade de AssuntoGeral em mais de 5 normas: 80\nQuantidade de normas com mais de 1 AssuntoGeral: 3379\nAssuntoGeral comuns:\n[ ('IMÓVEL', 2038),\n  ('PESSOAL', 1731),\n  ('CRÉDITO', 1486),\n  ('TRIBUTOS', 578),\n  ('EXECUTIVO', 549),\n  ('SECRETARIA DE ESTADO DE EDUCAÇÃO (SEE)', 543),\n  ('ORGANIZAÇÃO ADMINISTRATIVA', 541),\n  ('ESTABELECIMENTO DE ENSINO', 535),\n  ('ADMINISTRAÇÃO ESTADUAL', 355),\n  ('DIVISÃO ADMINISTRATIVA', 346),\n  ('SAÚDE PÚBLICA', 322),\n  ('HOMENAGEM', 241),\n  ('MEIO AMBIENTE', 221),\n  ('JUDICIÁRIO', 212),\n  ('ORÇAMENTO', 204),\n  ('TRANSPORTE E TRÂNSITO', 199),\n  ('CALENDÁRIO', 193),\n  ('AUXÍLIO FINANCEIRO', 190),\n  ('FINANÇAS PÚBLICAS', 189),\n  ('POLÍCIA MILITAR DO ESTADO DE MINAS GERAIS (PMMG)', 178)]\n\nPares de AssuntoGeral comuns:\n[ (('PESSOAL', 'SECRETARIA DE ESTADO DE EDUCAÇÃO (SEE)'), 522),\n  (('ESTABELECIMENTO DE ENSINO', 'PESSOAL'), 412),\n  ( ('ESTABELECIMENTO DE ENSINO', 'SECRETARIA DE ESTADO DE EDUCAÇÃO (SEE)'),\n    408),\n  (('EXECUTIVO', 'PESSOAL'), 394),\n  (('ORGANIZAÇÃO ADMINISTRATIVA', 'PESSOAL'), 277),\n  (('ADMINISTRAÇÃO ESTADUAL', 'ORÇAMENTO'), 160),\n  ( ('PESSOAL MILITAR', 'POLÍCIA MILITAR DO ESTADO DE MINAS GERAIS (PMMG)'),\n    128),\n  (('JUDICIÁRIO', 'PESSOAL'), 126),\n  (('ADMINISTRAÇÃO ESTADUAL', 'PESSOAL'), 117),\n  (('EXECUTIVO', 'ORGANIZAÇÃO ADMINISTRATIVA'), 104),\n  (('PESSOAL', 'TRIBUNAL DE CONTAS DO ESTADO DE MINAS GERAIS (TCEMG)'), 100),\n  (('PESSOAL', 'TRIBUNAL DE JUSTIÇA DO ESTADO DE MINAS GERAIS (TJMG)'), 93),\n  (('MINISTÉRIO PÚBLICO DO ESTADO DE MINAS GERAIS (MPMG)', 'PESSOAL'), 80),\n  (('ASSEMBLEIA LEGISLATIVA DO ESTADO DE MINAS GERAIS (ALMG)', 'PESSOAL'), 79),\n  (('JUDICIÁRIO', 'TRIBUNAL DE JUSTIÇA DO ESTADO DE MINAS GERAIS (TJMG)'), 70),\n  (('JUDICIÁRIO', 'TRIBUNAL DE ALÇADA DO ESTADO DE MINAS GERAIS (TAMG)'), 49),\n  (('PESSOAL', 'POLÍCIA CIVIL DO ESTADO DE MINAS GERAIS (PCMG)'), 48),\n  (('PESSOAL', 'TRIBUNAL DE ALÇADA DO ESTADO DE MINAS GERAIS (TAMG)'), 48),\n  (('PESSOAL', 'SECRETARIA DE ESTADO DE FAZENDA (SEF)'), 47),\n  (('JUDICIÁRIO', 'MAGISTRATURA'), 47)]\n"
     ]
    }
   ],
   "source": [
    "print_stats_multiplo(normasSemUtilidadeProprioPublicoReduzida, top=20)"
   ]
  },
  {
   "cell_type": "code",
   "execution_count": 24,
   "metadata": {},
   "outputs": [],
   "source": [
    "dump_json(\"normas_80assuntos.json\", normasSemUtilidadeProprioPublicoReduzida);"
   ]
  }
 ]
}